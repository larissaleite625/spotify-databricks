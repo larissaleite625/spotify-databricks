{
 "cells": [
  {
   "cell_type": "code",
   "execution_count": 0,
   "metadata": {
    "application/vnd.databricks.v1+cell": {
     "cellMetadata": {
      "byteLimit": 2048000,
      "rowLimit": 10000
     },
     "inputWidgets": {},
     "nuid": "94b3f300-8d79-4fd3-b325-7e70927a4203",
     "showTitle": false,
     "tableResultSettingsMap": {},
     "title": ""
    }
   },
   "outputs": [],
   "source": [
    "%pip install --quiet pymupdf"
   ]
  },
  {
   "cell_type": "code",
   "execution_count": 0,
   "metadata": {
    "application/vnd.databricks.v1+cell": {
     "cellMetadata": {
      "byteLimit": 2048000,
      "rowLimit": 10000
     },
     "inputWidgets": {},
     "nuid": "d77cd589-9255-4bfd-9faf-50cefd91aa21",
     "showTitle": false,
     "tableResultSettingsMap": {},
     "title": ""
    }
   },
   "outputs": [],
   "source": [
    "dbutils.library.restartPython()"
   ]
  },
  {
   "cell_type": "code",
   "execution_count": 0,
   "metadata": {
    "application/vnd.databricks.v1+cell": {
     "cellMetadata": {
      "byteLimit": 2048000,
      "rowLimit": 10000
     },
     "inputWidgets": {},
     "nuid": "2a4b53cc-fa62-4492-862e-73c287d9fd55",
     "showTitle": false,
     "tableResultSettingsMap": {},
     "title": ""
    }
   },
   "outputs": [],
   "source": [
    "import os, urllib.parse, fitz  \n",
    "\n",
    "pdf_name = \"/Workspace/Users/larissadeathayde3@gmail.com/spotify-databricks/spotify-dashboard-2025-08-29.pdf\"\n",
    "\n",
    "\n",
    "dir = \"/Workspace/Users/larissadeathayde3@gmail.com/spotify-databricks/Dash\"\n",
    "thumb_name = \"spotify-dashboard-thumb.png\"\n",
    "os.makedirs(dir, exist_ok=True)\n",
    "\n",
    "\n",
    "pdf_path = pdf_name\n",
    "doc = fitz.open(pdf_path)\n",
    "page = doc.load_page(0)  \n",
    "pix = page.get_pixmap(matrix=fitz.Matrix(2, 2)) \n",
    "thumb_path = os.path.join(dir, thumb_name)\n",
    "pix.save(thumb_path)\n",
    "doc.close()\n",
    "\n",
    "encoded_pdf = urllib.parse.quote(pdf_name)  \n"
   ]
  }
 ],
 "metadata": {
  "application/vnd.databricks.v1+notebook": {
   "computePreferences": null,
   "dashboards": [],
   "environmentMetadata": {
    "base_environment": "",
    "environment_version": "3"
   },
   "inputWidgetPreferences": null,
   "language": "python",
   "notebookMetadata": {
    "pythonIndentUnit": 4
   },
   "notebookName": "generate_thumbnail",
   "widgets": {}
  },
  "language_info": {
   "name": "python"
  }
 },
 "nbformat": 4,
 "nbformat_minor": 0
}
