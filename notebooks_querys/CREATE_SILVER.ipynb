{
 "cells": [
  {
   "cell_type": "code",
   "execution_count": 0,
   "metadata": {
    "application/vnd.databricks.v1+cell": {
     "cellMetadata": {
      "byteLimit": 2048000,
      "rowLimit": 10000
     },
     "inputWidgets": {},
     "nuid": "2152bf57-793b-4035-898f-2542df2278a9",
     "showTitle": false,
     "tableResultSettingsMap": {},
     "title": ""
    }
   },
   "outputs": [],
   "source": [
    "from pyspark.sql.functions import col, to_timestamp, year, month, hour\n",
    "from pyspark.sql.utils import AnalysisException\n",
    "\n",
    "table_name = \"spotify.spotify_analise\"\n",
    "\n",
    "try:\n",
    "    df = spark.read.table(table_name)\n",
    "\n",
    "    df = df.withColumn('ts', to_timestamp(col('ts')))\n",
    "\n",
    "    df = df.withColumn('year', year(col('ts')))\n",
    "    df = df.withColumn('month', month(col('ts')))\n",
    "    df = df.withColumn('hour', hour(col('ts')))\n",
    "\n",
    "    df = df.withColumn('minutes_played', col('ms_played') / 60000)\n",
    "\n",
    "    columns_to_check = ['master_metadata_track_name', 'master_metadata_album_artist_name', 'master_metadata_album_album_name']\n",
    "    df = df.dropna(subset=columns_to_check)\n",
    "\n",
    "    df = df.filter(col('minutes_played') > 0.5)\n",
    "\n",
    "    df_filtered = df.filter((col('year') >= 2014) & (col('year') <= 2024))\n",
    "\n",
    "    print(f\"Dados da tabela '{table_name}' processados com sucesso.\")\n",
    "    display(df_filtered.limit(10))\n",
    "\n",
    "except AnalysisException as e:\n",
    "    print(f\"Erro: A tabela '{table_name}' não foi encontrada ou não pôde ser acessada.\")\n",
    "    print(\"Verifique se o nome do schema e da tabela estão corretos e se você tem as permissões necessárias.\")"
   ]
  },
  {
   "cell_type": "code",
   "execution_count": 0,
   "metadata": {
    "application/vnd.databricks.v1+cell": {
     "cellMetadata": {
      "byteLimit": 2048000,
      "rowLimit": 10000
     },
     "inputWidgets": {},
     "nuid": "637119f9-3485-4bba-bd55-f01a743c4b86",
     "showTitle": false,
     "tableResultSettingsMap": {},
     "title": ""
    }
   },
   "outputs": [],
   "source": [
    "df_filtered.write.mode(\"overwrite\").saveAsTable(\"SILVER.SPOTIFY.spotify_analise_silver\")"
   ]
  }
 ],
 "metadata": {
  "application/vnd.databricks.v1+notebook": {
   "computePreferences": null,
   "dashboards": [],
   "environmentMetadata": {
    "base_environment": "",
    "environment_version": "3"
   },
   "inputWidgetPreferences": null,
   "language": "python",
   "notebookMetadata": {
    "mostRecentlyExecutedCommandWithImplicitDF": {
     "commandId": 6168688896380285,
     "dataframes": [
      "_sqldf"
     ]
    },
    "pythonIndentUnit": 4
   },
   "notebookName": "CREATE_SILVER",
   "widgets": {}
  },
  "language_info": {
   "name": "python"
  }
 },
 "nbformat": 4,
 "nbformat_minor": 0
}
