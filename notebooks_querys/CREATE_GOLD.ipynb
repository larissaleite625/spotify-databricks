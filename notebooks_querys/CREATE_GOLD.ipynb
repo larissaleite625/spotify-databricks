{
 "cells": [
  {
   "cell_type": "code",
   "execution_count": 0,
   "metadata": {
    "application/vnd.databricks.v1+cell": {
     "cellMetadata": {
      "byteLimit": 2048000,
      "rowLimit": 10000
     },
     "inputWidgets": {},
     "nuid": "2a4302c6-379c-4795-a57b-d72264ac6e61",
     "showTitle": false,
     "tableResultSettingsMap": {},
     "title": ""
    }
   },
   "outputs": [],
   "source": [
    "import json, math, time, re\n",
    "from pyspark.sql.functions import col, lit, coalesce, substring_index, when"
   ]
  },
  {
   "cell_type": "code",
   "execution_count": 0,
   "metadata": {
    "application/vnd.databricks.v1+cell": {
     "cellMetadata": {
      "byteLimit": 2048000,
      "rowLimit": 10000
     },
     "inputWidgets": {},
     "nuid": "3e7f7b92-468d-4e25-9e03-566ecc6d6d35",
     "showTitle": false,
     "tableResultSettingsMap": {},
     "title": ""
    }
   },
   "outputs": [],
   "source": [
    "spark.sql(\"CREATE CATALOG IF NOT EXISTS GOLD\")\n",
    "spark.sql(\"CREATE SCHEMA IF NOT EXISTS GOLD.SPOTIFY\")\n",
    "spark.sql(\"CREATE TABLE IF NOT EXISTS GOLD.SPOTIFY.spotify_analise\")\n",
    "\n",
    "df_silver = spark.table(\"silver.spotify.spotify_analise_silver\")\n",
    "\n",
    "df_quase_gold = df_silver.withColumn(\n",
    "    \"spotify_track_uri\",\n",
    "    substring_index(\"spotify_track_uri\", \":\", -1)\n",
    ")\n",
    "\n",
    "df_gold = df_silver.select(\n",
    "    \"spotify_track_uri\",\n",
    "    \"ts\",\n",
    "    \"ms_played\",\n",
    "    \"master_metadata_track_name\",\n",
    "    \"master_metadata_album_artist_name\",\n",
    "    \"master_metadata_album_album_name\",\n",
    "    \"reason_start\",\n",
    "    \"skipped\",\n",
    "    \"year\",\n",
    "    \"month\",\n",
    "    \"hour\",\n",
    "    \"minutes_played\",\n",
    ")"
   ]
  },
  {
   "cell_type": "code",
   "execution_count": 0,
   "metadata": {
    "application/vnd.databricks.v1+cell": {
     "cellMetadata": {
      "byteLimit": 2048000,
      "rowLimit": 10000
     },
     "inputWidgets": {},
     "nuid": "27a085b0-e6cd-484a-8ea1-faca09a83690",
     "showTitle": false,
     "tableResultSettingsMap": {},
     "title": ""
    }
   },
   "outputs": [],
   "source": [
    "df_estilos = df_gold.select(\n",
    "    \"master_metadata_track_name\",\n",
    "    \"master_metadata_album_artist_name\",\n",
    "    \"master_metadata_album_album_name\"\n",
    ")\n",
    "\n",
    "df_estilos = df_estilos.withColumn(\"style\", lit(\"unknown\"))"
   ]
  },
  {
   "cell_type": "code",
   "execution_count": 0,
   "metadata": {
    "application/vnd.databricks.v1+cell": {
     "cellMetadata": {
      "byteLimit": 2048000,
      "rowLimit": 10000
     },
     "inputWidgets": {},
     "nuid": "acf9e9ef-850e-4a01-8071-b8dbf29ae3c7",
     "showTitle": false,
     "tableResultSettingsMap": {},
     "title": ""
    }
   },
   "outputs": [],
   "source": [
    "keys = [\n",
    "    \"master_metadata_track_name\",\n",
    "    \"master_metadata_album_artist_name\",\n",
    "    \"master_metadata_album_album_name\"\n",
    "]\n",
    "\n",
    "\n",
    "df_estilos = (\n",
    "    df_estilos\n",
    "    .select(*keys, col(\"style\").alias(\"style\"))\n",
    "    .dropDuplicates(keys)\n",
    ")\n",
    "\n",
    "\n",
    "(\n",
    "    df_estilos_com_style\n",
    "    .write\n",
    "    .mode(\"overwrite\")\n",
    "    .format(\"delta\")\n",
    "    .saveAsTable(\"gold.spotify.spotify_estilos\")\n",
    ")\n",
    "\n",
    "(\n",
    "    df_gold_com_style\n",
    "    .write\n",
    "    .mode(\"overwrite\")\n",
    "    .format(\"delta\")\n",
    "    .saveAsTable(\"gold.spotify.spotify_analise\")\n",
    ")"
   ]
  },
  {
   "cell_type": "code",
   "execution_count": 0,
   "metadata": {
    "application/vnd.databricks.v1+cell": {
     "cellMetadata": {
      "byteLimit": 2048000,
      "rowLimit": 10000
     },
     "inputWidgets": {},
     "nuid": "e71bbae4-4855-4710-9720-09dfe1fa37a7",
     "showTitle": false,
     "tableResultSettingsMap": {},
     "title": ""
    }
   },
   "outputs": [],
   "source": [
    "from pyspark.sql.functions import monotonically_increasing_id\n",
    "\n",
    "df = spark.table(\n",
    "    \"gold.spotify.spotify_estilos\"\n",
    ")\n",
    "\n",
    "df_with_id = df.withColumn(\n",
    "    \"id_musica\",\n",
    "    monotonically_increasing_id()\n",
    ")\n",
    "\n",
    "display(\n",
    "    df_with_id\n",
    ")"
   ]
  }
 ],
 "metadata": {
  "application/vnd.databricks.v1+notebook": {
   "computePreferences": {
    "hardware": {
     "accelerator": null,
     "gpuPoolId": null,
     "memory": null
    }
   },
   "dashboards": [],
   "environmentMetadata": {
    "base_environment": "",
    "environment_version": "3"
   },
   "inputWidgetPreferences": null,
   "language": "python",
   "notebookMetadata": {
    "mostRecentlyExecutedCommandWithImplicitDF": {
     "commandId": 4858577255751961,
     "dataframes": [
      "_sqldf"
     ]
    },
    "pythonIndentUnit": 4
   },
   "notebookName": "CREATE_GOLD",
   "widgets": {}
  },
  "language_info": {
   "name": "python"
  }
 },
 "nbformat": 4,
 "nbformat_minor": 0
}
