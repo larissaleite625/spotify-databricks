{
 "cells": [
  {
   "cell_type": "code",
   "execution_count": 0,
   "metadata": {
    "application/vnd.databricks.v1+cell": {
     "cellMetadata": {
      "byteLimit": 2048000,
      "rowLimit": 10000
     },
     "inputWidgets": {},
     "nuid": "2a47686c-4d4d-46dd-8692-2a4ea6591791",
     "showTitle": false,
     "tableResultSettingsMap": {},
     "title": ""
    }
   },
   "outputs": [],
   "source": [
    "pip install OpenAI"
   ]
  },
  {
   "cell_type": "code",
   "execution_count": 0,
   "metadata": {
    "application/vnd.databricks.v1+cell": {
     "cellMetadata": {
      "byteLimit": 2048000,
      "rowLimit": 10000
     },
     "inputWidgets": {},
     "nuid": "68e31f5a-7ba9-4aa7-8d6a-d0600d31d4a7",
     "showTitle": false,
     "tableResultSettingsMap": {},
     "title": ""
    }
   },
   "outputs": [],
   "source": [
    "%pip install -U mlflow\n",
    "dbutils.library.restartPython()"
   ]
  },
  {
   "cell_type": "code",
   "execution_count": 0,
   "metadata": {
    "application/vnd.databricks.v1+cell": {
     "cellMetadata": {
      "byteLimit": 2048000,
      "rowLimit": 10000
     },
     "inputWidgets": {},
     "nuid": "ea3bbf21-62d1-47da-9792-9adf349dbef3",
     "showTitle": false,
     "tableResultSettingsMap": {},
     "title": ""
    }
   },
   "outputs": [],
   "source": [
    "import json, math, time, re\n",
    "from typing import List, Dict, Any\n",
    "from openai import OpenAI\n",
    "import mlflow\n",
    "mlflow.openai.autolog()\n",
    "\n",
    "from pyspark.sql.functions import col, lit, coalesce, substring_index, rand"
   ]
  },
  {
   "cell_type": "code",
   "execution_count": 0,
   "metadata": {
    "application/vnd.databricks.v1+cell": {
     "cellMetadata": {
      "byteLimit": 2048000,
      "rowLimit": 10000
     },
     "inputWidgets": {},
     "nuid": "3b75cb3a-cbc9-413d-89a9-898074c40582",
     "showTitle": false,
     "tableResultSettingsMap": {},
     "title": ""
    }
   },
   "outputs": [],
   "source": [
    "API_KEY=''\n",
    "#Databricks Secrets (o gerenciador nativo de segredos do workspace) :(\n",
    "API_URL='https://api.deepseek.com'\n",
    "client = OpenAI(api_key=API_KEY, base_url=API_URL)"
   ]
  },
  {
   "cell_type": "code",
   "execution_count": 0,
   "metadata": {
    "application/vnd.databricks.v1+cell": {
     "cellMetadata": {
      "byteLimit": 2048000,
      "rowLimit": 10000
     },
     "inputWidgets": {},
     "nuid": "db92a438-1798-4d61-b3a7-8b2dfe5cdf1f",
     "showTitle": false,
     "tableResultSettingsMap": {},
     "title": ""
    }
   },
   "outputs": [],
   "source": [
    "df_estilos = spark.table(\"gold.spotify.spotify_musicas\")\n",
    "df_estilos_filtrados = df_estilos.filter(col(\"style\") == \"unknown\").orderBy(rand()).limit(50)\n",
    "display(df_estilos_filtrados)"
   ]
  },
  {
   "cell_type": "code",
   "execution_count": 0,
   "metadata": {
    "application/vnd.databricks.v1+cell": {
     "cellMetadata": {
      "byteLimit": 2048000,
      "rowLimit": 10000
     },
     "inputWidgets": {},
     "nuid": "ef5e6a39-fef2-4dbb-9d46-5cbface6cdba",
     "showTitle": false,
     "tableResultSettingsMap": {},
     "title": ""
    }
   },
   "outputs": [],
   "source": [
    "json_data = (\n",
    "    df_estilos_filtrados\n",
    "    .toPandas()\n",
    "    .to_dict(orient=\"records\")\n",
    ")\n",
    "\n",
    "total = len(json_data)\n",
    "print(f\"Total de registros: {total}\")"
   ]
  },
  {
   "cell_type": "code",
   "execution_count": 0,
   "metadata": {
    "application/vnd.databricks.v1+cell": {
     "cellMetadata": {
      "byteLimit": 2048000,
      "rowLimit": 10000
     },
     "inputWidgets": {},
     "nuid": "40bad220-1bf7-426a-89b3-26140a2f421d",
     "showTitle": false,
     "tableResultSettingsMap": {},
     "title": ""
    }
   },
   "outputs": [],
   "source": [
    "print(json_data)"
   ]
  },
  {
   "cell_type": "code",
   "execution_count": 0,
   "metadata": {
    "application/vnd.databricks.v1+cell": {
     "cellMetadata": {
      "byteLimit": 2048000,
      "rowLimit": 10000
     },
     "inputWidgets": {},
     "nuid": "c18350b7-2889-425e-80b2-dfd56315400b",
     "showTitle": false,
     "tableResultSettingsMap": {},
     "title": ""
    }
   },
   "outputs": [],
   "source": [
    "system_prompt = \"\"\"\n",
    "You are an expert in music genres. Return ONLY valid JSON.\n",
    "\n",
    "INPUT: a JSON array of objects with fields:\n",
    "- \"master_metadata_track_name\"\n",
    "- \"master_metadata_album_artist_name\"\n",
    "- \"master_metadata_album_album_name\"\n",
    "\n",
    "REQUIREMENTS:\n",
    "- Return a SINGLE JSON OBJECT with exactly one key: \"data\".\n",
    "- \"data\" MUST be a JSON array with the same length and order as the input.\n",
    "- Each object MUST preserve the original fields and add:\n",
    "  \"Style\": the most appropriate single genre in English (e.g., \"Brazilian Popular Music\", \"Samba\", \"Rock\", \"Hip Hop\").\n",
    "- No extra keys besides \"data\". No markdown/code fences. No text outside JSON.\n",
    "\n",
    "EXAMPLE INPUT (array):\n",
    "[\n",
    "  {\"master_metadata_track_name\":\"Cabeça Vazia\",\"master_metadata_album_artist_name\":\"Djavan\",\"master_metadata_album_album_name\":\"D\"}\n",
    "]\n",
    "\n",
    "EXAMPLE OUTPUT (object):\n",
    "{\"data\":[\n",
    "  {\"master_metadata_track_name\":\"Cabeça Vazia\",\"master_metadata_album_artist_name\":\"Djavan\",\"master_metadata_album_album_name\":\"D\",\"Style\":\"Brazilian Popular Music\"}\n",
    "]}\n",
    "\"\"\".strip()"
   ]
  },
  {
   "cell_type": "code",
   "execution_count": 0,
   "metadata": {
    "application/vnd.databricks.v1+cell": {
     "cellMetadata": {
      "byteLimit": 2048000,
      "rowLimit": 10000
     },
     "inputWidgets": {},
     "nuid": "30abd227-bd15-4e84-87a1-1282e157cc6a",
     "showTitle": false,
     "tableResultSettingsMap": {},
     "title": ""
    }
   },
   "outputs": [],
   "source": [
    "TEMPERATURE   = 0.0        # máximo de consistência\n",
    "MODEL = \"deepseek-chat\"  # modelo do DeepSeek"
   ]
  },
  {
   "cell_type": "code",
   "execution_count": 0,
   "metadata": {
    "application/vnd.databricks.v1+cell": {
     "cellMetadata": {
      "byteLimit": 2048000,
      "rowLimit": 10000
     },
     "inputWidgets": {},
     "nuid": "c7d9e4d6-7464-4c49-82de-45ed74482157",
     "showTitle": false,
     "tableResultSettingsMap": {},
     "title": ""
    }
   },
   "outputs": [],
   "source": [
    "def classify_with_deepseek(items: List[Dict[str, Any]]) -> Dict[str, Any]:\n",
    "    \"\"\"\n",
    "    Chama o DeepSeek em JSON mode e retorna um dict Python com a chave 'data'.\n",
    "    Usa TEMPERATURE, system_prompt e client já definidos no seu bloco.\n",
    "    \"\"\"\n",
    "    payload = json.dumps(items, ensure_ascii=False)\n",
    "    response = client.chat.completions.create(\n",
    "        model=MODEL,\n",
    "        temperature=TEMPERATURE,\n",
    "        response_format={\"type\": \"json_object\"},  # força saída JSON válida\n",
    "        messages=[\n",
    "            {\"role\": \"system\", \"content\": system_prompt},\n",
    "            {\"role\": \"user\", \"content\": payload}\n",
    "        ]\n",
    "    )\n",
    "    content = response.choices[0].message.content\n",
    "    return json.loads(content)\n"
   ]
  },
  {
   "cell_type": "code",
   "execution_count": 0,
   "metadata": {
    "application/vnd.databricks.v1+cell": {
     "cellMetadata": {
      "byteLimit": 2048000,
      "rowLimit": 10000
     },
     "inputWidgets": {},
     "nuid": "c6065442-7bbf-4089-9690-8091b68fcced",
     "showTitle": false,
     "tableResultSettingsMap": {},
     "title": ""
    }
   },
   "outputs": [],
   "source": [
    "def parsed_to_spark_df(parsed: Dict[str, Any]):\n",
    "    data_out: List[Dict[str, Any]] = []\n",
    "    for obj in parsed.get(\"data\", []):\n",
    "        data_out.append({\n",
    "            \"master_metadata_track_name\":        obj[\"master_metadata_track_name\"],\n",
    "            \"master_metadata_album_artist_name\": obj[\"master_metadata_album_artist_name\"],\n",
    "            \"master_metadata_album_album_name\":  obj[\"master_metadata_album_album_name\"],\n",
    "            \"style\":                             obj.get(\"Style\", \"unknown\"),\n",
    "        })\n",
    "    if not data_out:\n",
    "        raise ValueError(\"DeepSeek retornou vazio ou sem chave 'data'.\")\n",
    "    return spark.createDataFrame(data_out)"
   ]
  },
  {
   "cell_type": "code",
   "execution_count": 0,
   "metadata": {
    "application/vnd.databricks.v1+cell": {
     "cellMetadata": {
      "byteLimit": 2048000,
      "rowLimit": 10000
     },
     "inputWidgets": {},
     "nuid": "c8e5eaed-2b95-4224-ab7e-c906b2ec24a8",
     "showTitle": false,
     "tableResultSettingsMap": {},
     "title": ""
    }
   },
   "outputs": [],
   "source": [
    "def run_classification(records: List[Dict[str, Any]]):\n",
    "    \"\"\"\n",
    "    Orquestra: classifica -> imprime JSON -> mostra DF resultante.\n",
    "    (Não altera sua tabela — só exibe. Se quiser, depois fazemos o MERGE.)\n",
    "    \"\"\"\n",
    "    parsed = classify_with_deepseek(records)\n",
    "\n",
    "    print(\"JSON retornado pelo modelo:\")\n",
    "    print(json.dumps(parsed, ensure_ascii=False, indent=2))\n",
    "\n",
    "    # 2) DataFrame normalizado \n",
    "    df_out = parsed_to_spark_df(parsed)\n",
    "    print(\"Prévia do DataFrame normalizado:\")\n",
    "    display(df_out)\n",
    "    return df_out\n"
   ]
  },
  {
   "cell_type": "code",
   "execution_count": 0,
   "metadata": {
    "application/vnd.databricks.v1+cell": {
     "cellMetadata": {
      "byteLimit": 2048000,
      "rowLimit": 10000
     },
     "inputWidgets": {},
     "nuid": "64d116b4-930b-4ef4-b78d-e7ea6ae53101",
     "showTitle": false,
     "tableResultSettingsMap": {},
     "title": ""
    }
   },
   "outputs": [],
   "source": [
    "if total == 0:\n",
    "    print(\"Nada para classificar. Encerrando.\")\n",
    "else:\n",
    "    df_out = run_classification(json_data)"
   ]
  },
  {
   "cell_type": "code",
   "execution_count": 0,
   "metadata": {
    "application/vnd.databricks.v1+cell": {
     "cellMetadata": {
      "byteLimit": 2048000,
      "rowLimit": 10000
     },
     "inputWidgets": {},
     "nuid": "8b61ceb6-5df3-4352-b3fb-1053916c5402",
     "showTitle": false,
     "tableResultSettingsMap": {
      "0": {
       "dataGridStateBlob": "{\"version\":1,\"tableState\":{\"columnPinning\":{\"left\":[\"#row_number#\"],\"right\":[]},\"columnSizing\":{\"master_metadata_track_name\":297,\"master_metadata_album_album_name\":346},\"columnVisibility\":{}},\"settings\":{\"columns\":{}},\"syncTimestamp\":1756343761542}",
       "filterBlob": null,
       "queryPlanFiltersBlob": null,
       "tableResultIndex": 0
      }
     },
     "title": ""
    }
   },
   "outputs": [],
   "source": [
    "from delta.tables import DeltaTable\n",
    "\n",
    "keys = [\n",
    "    \"master_metadata_track_name\",\n",
    "    \"master_metadata_album_artist_name\",\n",
    "    \"master_metadata_album_album_name\",\n",
    "]\n",
    "\n",
    "# df_out -> somente colunas necessárias para update\n",
    "updates = (\n",
    "    df_out\n",
    "    .select(*keys, col(\"style\").alias(\"new_style\"))\n",
    "    .where(col(\"new_style\").isNotNull())\n",
    ")\n",
    "\n",
    "# MERGE INTO via API\n",
    "tgt = DeltaTable.forName(spark, \"gold.spotify.spotify_musicas\")\n",
    "\n",
    "(\n",
    "    tgt.alias(\"t\")\n",
    "      .merge(\n",
    "          updates.alias(\"u\"),\n",
    "          \"\"\"\n",
    "          t.master_metadata_track_name        = u.master_metadata_track_name AND\n",
    "          t.master_metadata_album_artist_name = u.master_metadata_album_artist_name AND\n",
    "          t.master_metadata_album_album_name  = u.master_metadata_album_album_name\n",
    "          \"\"\"\n",
    "      )\n",
    "      .whenMatchedUpdate(\n",
    "          condition=\"t.style = 'unknown'\",\n",
    "          set={\"style\": \"u.new_style\"}\n",
    "      )\n",
    "      .execute()\n",
    ")\n",
    "\n",
    "display(\n",
    "    spark.table(\"gold.spotify.spotify_musicas\")\n",
    "         .where(col(\"style\") != \"unknown\")\n",
    ")\n"
   ]
  }
 ],
 "metadata": {
  "application/vnd.databricks.v1+notebook": {
   "computePreferences": {
    "hardware": {
     "accelerator": null,
     "gpuPoolId": null,
     "memory": null
    }
   },
   "dashboards": [],
   "environmentMetadata": {
    "base_environment": "",
    "environment_version": "3"
   },
   "inputWidgetPreferences": null,
   "language": "python",
   "notebookMetadata": {
    "pythonIndentUnit": 4
   },
   "notebookName": "Enriquecimento de Estilos",
   "widgets": {}
  },
  "language_info": {
   "name": "python"
  }
 },
 "nbformat": 4,
 "nbformat_minor": 0
}
